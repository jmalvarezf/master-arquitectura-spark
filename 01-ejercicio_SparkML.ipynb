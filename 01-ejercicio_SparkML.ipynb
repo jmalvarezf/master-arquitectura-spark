{
 "cells": [
  {
   "cell_type": "markdown",
   "metadata": {},
   "source": [
    "<h1>Práctica Final de Spark - 1. Modelo de Machine Learning</h1>\n",
    "<p/>\n",
    "<table border>\n",
    "<tr><td>Alumno</td><td>email</td><td>Teléfono</td></ur>\n",
    "<tr><td>José María Álvarez</td><td>josemaria.alvarezfernandez@elcorteingles.es</td><td>+34 682 780 953</td></ur>\n",
    "<tr><td>Adolfo González</td><td>adolfo.gonzalez@elcorteingles.es</td><td>+34 609 964 414</td></ur>\n",
    "<tr><td>César Colado</td><td>cesar.colado@elcorteingles.es</td><td>+34 661 415 555</td></ur>\n",
    "</table>"
   ]
  },
  {
   "cell_type": "markdown",
   "metadata": {},
   "source": [
    "## KMeans con un dataset de vinos"
   ]
  },
  {
   "cell_type": "markdown",
   "metadata": {},
   "source": [
    "El objetivo será generar un modelo de segmentación, que nos permita agrupar los vinos que nos van llegando a un congreso de vinos. La cantidad de vinos que llegan de cada uno de los fabricantes, nos podría obligar a ir sometiendo cada vino al modelo diseñado y solicitar al productor la exposición de sus vinos en las categorías que se le asignen.\n",
    " \n",
    "Para hacer esto, modelaremos la llegada de la información de cada vino mediante un “streaming” que hemos realizado en un script en python. \n",
    "\n",
    "\n",
    "Primero cargamos el dataset. El dataset se encuentra en los repositorios de UCI machine learning. Para ello aprovechamos y lo cargamos desde una URL con los métodos de Pandas (ya que Spark no lo permite) y lo mostramos."
   ]
  },
  {
   "cell_type": "code",
   "execution_count": 9,
   "metadata": {},
   "outputs": [
    {
     "name": "stdout",
     "output_type": "stream",
     "text": [
      "+-------------+----------------+-----------+--------------+-------------------+-------------------+--------------------+-------+----+---------+-------+-------+------+\n",
      "|fixed acidity|volatile acidity|citric acid|residual sugar|          chlorides|free sulfur dioxide|total sulfur dioxide|density|  pH|sulphates|alcohol|quality|    id|\n",
      "+-------------+----------------+-----------+--------------+-------------------+-------------------+--------------------+-------+----+---------+-------+-------+------+\n",
      "|          7.4|             0.7|        0.0|           1.9|              0.076|               11.0|                34.0| 0.9978|3.51|     0.56|    9.4|      5| wine0|\n",
      "|          7.8|            0.88|        0.0|           2.6|              0.098|               25.0|                67.0| 0.9968| 3.2|     0.68|    9.8|      5| wine1|\n",
      "|          7.8|            0.76|       0.04|           2.3|              0.092|               15.0|                54.0|  0.997|3.26|     0.65|    9.8|      5| wine2|\n",
      "|         11.2|            0.28|       0.56|           1.9|              0.075|               17.0|                60.0|  0.998|3.16|     0.58|    9.8|      6| wine3|\n",
      "|          7.4|             0.7|        0.0|           1.9|              0.076|               11.0|                34.0| 0.9978|3.51|     0.56|    9.4|      5| wine4|\n",
      "|          7.4|            0.66|        0.0|           1.8|              0.075|               13.0|                40.0| 0.9978|3.51|     0.56|    9.4|      5| wine5|\n",
      "|          7.9|             0.6|       0.06|           1.6|              0.069|               15.0|                59.0| 0.9964| 3.3|     0.46|    9.4|      5| wine6|\n",
      "|          7.3|            0.65|        0.0|           1.2|              0.065|               15.0|                21.0| 0.9946|3.39|     0.47|   10.0|      7| wine7|\n",
      "|          7.8|            0.58|       0.02|           2.0|              0.073|                9.0|                18.0| 0.9968|3.36|     0.57|    9.5|      7| wine8|\n",
      "|          7.5|             0.5|       0.36|           6.1|              0.071|               17.0|               102.0| 0.9978|3.35|      0.8|   10.5|      5| wine9|\n",
      "|          6.7|            0.58|       0.08|           1.8|0.09699999999999999|               15.0|                65.0| 0.9959|3.28|     0.54|    9.2|      5|wine10|\n",
      "|          7.5|             0.5|       0.36|           6.1|              0.071|               17.0|               102.0| 0.9978|3.35|      0.8|   10.5|      5|wine11|\n",
      "|          5.6|           0.615|        0.0|           1.6|0.08900000000000001|               16.0|                59.0| 0.9943|3.58|     0.52|    9.9|      5|wine12|\n",
      "|          7.8|            0.61|       0.29|           1.6|              0.114|                9.0|                29.0| 0.9974|3.26|     1.56|    9.1|      5|wine13|\n",
      "|          8.9|            0.62|       0.18|           3.8|0.17600000000000002|               52.0|               145.0| 0.9986|3.16|     0.88|    9.2|      5|wine14|\n",
      "|          8.9|            0.62|       0.19|           3.9|               0.17|               51.0|               148.0| 0.9986|3.17|     0.93|    9.2|      5|wine15|\n",
      "|          8.5|            0.28|       0.56|           1.8|              0.092|               35.0|               103.0| 0.9969| 3.3|     0.75|   10.5|      7|wine16|\n",
      "|          8.1|            0.56|       0.28|           1.7|              0.368|               16.0|                56.0| 0.9968|3.11|     1.28|    9.3|      5|wine17|\n",
      "|          7.4|            0.59|       0.08|           4.4|              0.086|                6.0|                29.0| 0.9974|3.38|      0.5|    9.0|      4|wine18|\n",
      "|          7.9|            0.32|       0.51|           1.8|              0.341|               17.0|                56.0| 0.9969|3.04|     1.08|    9.2|      6|wine19|\n",
      "+-------------+----------------+-----------+--------------+-------------------+-------------------+--------------------+-------+----+---------+-------+-------+------+\n",
      "only showing top 20 rows\n",
      "\n"
     ]
    }
   ],
   "source": [
    "import pandas as pd\n",
    "pd_df = pd.read_csv(\"http://archive.ics.uci.edu/ml/machine-learning-databases/wine-quality/winequality-red.csv\", header=0, delimiter=\";\")\n",
    "pd_df['id'] = 'wine'+pd_df.index.astype(str)\n",
    "wineDF = spark.createDataFrame(pd_df)\n",
    "wineDF.show()"
   ]
  },
  {
   "cell_type": "markdown",
   "metadata": {},
   "source": [
    "Comprobamos que todas las columnas que nos interesan para el agrupamiento son del tipo numérico. Existe una columna denominada \"quality\" que si quisiéramos hacer un modelo de clasificación tendría sentido extraer como variable objetivo, pero dado que lo que queremos hacer es un algoritmo de clustering, veremos si la calidad afecta a los grupos o no como curiosidad. En nuestro caso la eliminaremos puesto que no se trata de una variable objetiva del vino y la dejaremos para ver si los grupos que se identifiquen se pueden asociar de alguna forma a la calidad, aunque no tendría porqué."
   ]
  },
  {
   "cell_type": "code",
   "execution_count": 13,
   "metadata": {},
   "outputs": [
    {
     "name": "stdout",
     "output_type": "stream",
     "text": [
      "[DoubleType, DoubleType, DoubleType, DoubleType, DoubleType, DoubleType, DoubleType, DoubleType, DoubleType, DoubleType, DoubleType, LongType, StringType]\n",
      "['fixed acidity', 'volatile acidity', 'citric acid', 'residual sugar', 'chlorides', 'free sulfur dioxide', 'total sulfur dioxide', 'density', 'pH', 'sulphates', 'alcohol']\n"
     ]
    }
   ],
   "source": [
    "types = [element.dataType for element in wineDF.schema.fields]\n",
    "print(types)\n",
    "names = []\n",
    "for element in wineDF.schema.fields:\n",
    "    if element.name != \"id\":\n",
    "        if element.name != \"quality\":\n",
    "            names.append(element.name)\n",
    "print(names)\n",
    "wineDF = wineDF.na.drop()"
   ]
  },
  {
   "cell_type": "code",
   "execution_count": 14,
   "metadata": {},
   "outputs": [
    {
     "name": "stdout",
     "output_type": "stream",
     "text": [
      "+------+--------------------+\n",
      "|    id|            features|\n",
      "+------+--------------------+\n",
      "| wine0|[7.4,0.7,0.0,1.9,...|\n",
      "| wine1|[7.8,0.88,0.0,2.6...|\n",
      "| wine2|[7.8,0.76,0.04,2....|\n",
      "| wine3|[11.2,0.28,0.56,1...|\n",
      "| wine4|[7.4,0.7,0.0,1.9,...|\n",
      "| wine5|[7.4,0.66,0.0,1.8...|\n",
      "| wine6|[7.9,0.6,0.06,1.6...|\n",
      "| wine7|[7.3,0.65,0.0,1.2...|\n",
      "| wine8|[7.8,0.58,0.02,2....|\n",
      "| wine9|[7.5,0.5,0.36,6.1...|\n",
      "|wine10|[6.7,0.58,0.08,1....|\n",
      "|wine11|[7.5,0.5,0.36,6.1...|\n",
      "|wine12|[5.6,0.615,0.0,1....|\n",
      "|wine13|[7.8,0.61,0.29,1....|\n",
      "|wine14|[8.9,0.62,0.18,3....|\n",
      "|wine15|[8.9,0.62,0.19,3....|\n",
      "|wine16|[8.5,0.28,0.56,1....|\n",
      "|wine17|[8.1,0.56,0.28,1....|\n",
      "|wine18|[7.4,0.59,0.08,4....|\n",
      "|wine19|[7.9,0.32,0.51,1....|\n",
      "+------+--------------------+\n",
      "only showing top 20 rows\n",
      "\n"
     ]
    }
   ],
   "source": [
    "from pyspark.ml.feature import VectorAssembler\n",
    "vecAssembler = VectorAssembler(inputCols=names, outputCol=\"features\")\n",
    "wineDF_kmeans = vecAssembler.transform(wineDF).select('id', 'features')\n",
    "wineDF_kmeans.show()"
   ]
  },
  {
   "cell_type": "markdown",
   "metadata": {},
   "source": [
    "Es importante saber antes de usar Kmeans, cuantas agrupaciones queremos realizar. Es por ello que intentamos, como se muestra en el ejemplo del enunciado, sacar un valor de K para el cual ya no se \"maximize\" la ganancia"
   ]
  },
  {
   "cell_type": "code",
   "execution_count": 15,
   "metadata": {
    "collapsed": true
   },
   "outputs": [],
   "source": [
    "import numpy as np\n",
    "from pyspark.ml.clustering import KMeans\n",
    "cost = np.zeros(20)\n",
    "for k in range(2,20):\n",
    "    kmeans = KMeans().setK(k).setSeed(1).setFeaturesCol(\"features\")\n",
    "    model = kmeans.fit(wineDF_kmeans.sample(False,0.1, seed=42))\n",
    "    cost[k] = model.computeCost(wineDF_kmeans)"
   ]
  },
  {
   "cell_type": "code",
   "execution_count": 16,
   "metadata": {},
   "outputs": [
    {
     "data": {
      "image/png": "[encoded data removed]",
      "text/plain": [
       "<matplotlib.figure.Figure at 0x7fa96340f5c0>"
      ]
     },
     "metadata": {},
     "output_type": "display_data"
    }
   ],
   "source": [
    "import matplotlib.pyplot as plt\n",
    "%matplotlib inline\n",
    "fig, ax = plt.subplots(1,1, figsize =(12,6))\n",
    "ax.plot(range(2,20),cost[2:20])\n",
    "_ = ax.set_xlabel('k')\n",
    "_ = ax.set_ylabel('coste')"
   ]
  },
  {
   "cell_type": "markdown",
   "metadata": {},
   "source": [
    "En principio vamos a intentar quedarnos con un K de 11, a partir del cual la ganacia es realmente pequeña, y sabiendo además que la calidad del vino se va a medir de 0 a 10"
   ]
  },
  {
   "cell_type": "code",
   "execution_count": 17,
   "metadata": {
    "collapsed": true
   },
   "outputs": [],
   "source": [
    "kmeans_k = 11\n",
    "kmeans = KMeans().setK(kmeans_k).setSeed(1).setFeaturesCol(\"features\")\n",
    "model = kmeans.fit(wineDF_kmeans)"
   ]
  },
  {
   "cell_type": "code",
   "execution_count": 18,
   "metadata": {},
   "outputs": [
    {
     "name": "stdout",
     "output_type": "stream",
     "text": [
      "[Row(id='wine0', prediction=6), Row(id='wine1', prediction=0), Row(id='wine2', prediction=7)]\n"
     ]
    }
   ],
   "source": [
    "predictions = model.transform(wineDF_kmeans).select('id', 'prediction')\n",
    "rows = predictions.collect()\n",
    "print(rows[:3])"
   ]
  },
  {
   "cell_type": "code",
   "execution_count": 19,
   "metadata": {},
   "outputs": [
    {
     "name": "stdout",
     "output_type": "stream",
     "text": [
      "+------+----------+\n",
      "|    id|prediction|\n",
      "+------+----------+\n",
      "| wine0|         6|\n",
      "| wine1|         0|\n",
      "| wine2|         7|\n",
      "| wine3|         7|\n",
      "| wine4|         6|\n",
      "| wine5|         4|\n",
      "| wine6|         7|\n",
      "| wine7|         6|\n",
      "| wine8|         1|\n",
      "| wine9|         8|\n",
      "|wine10|         7|\n",
      "|wine11|         8|\n",
      "|wine12|         7|\n",
      "|wine13|         6|\n",
      "|wine14|         9|\n",
      "|wine15|         9|\n",
      "|wine16|        10|\n",
      "|wine17|         7|\n",
      "|wine18|         6|\n",
      "|wine19|         7|\n",
      "+------+----------+\n",
      "only showing top 20 rows\n",
      "\n"
     ]
    }
   ],
   "source": [
    "wineDF_pred = spark.createDataFrame(rows)\n",
    "wineDF_pred.show()"
   ]
  },
  {
   "cell_type": "markdown",
   "metadata": {},
   "source": [
    "Ahora salvamos el modelo"
   ]
  },
  {
   "cell_type": "code",
   "execution_count": 20,
   "metadata": {
    "collapsed": true
   },
   "outputs": [],
   "source": [
    "model.save(\"wine_kmeans_model\")"
   ]
  },
  {
   "cell_type": "markdown",
   "metadata": {},
   "source": [
    "Según la documentación y los ejemplos de Spark (https://github.com/apache/spark/blob/v2.2.1/examples/src/main/python/ml/kmeans_example.py), podemos evaluar el modelo, y así lo hacemos"
   ]
  },
  {
   "cell_type": "code",
   "execution_count": 21,
   "metadata": {},
   "outputs": [
    {
     "name": "stdout",
     "output_type": "stream",
     "text": [
      "Within Set Sum of Squared Errors = 99494.80305208372\n"
     ]
    }
   ],
   "source": [
    "# Evaluamos el clustering computando el \"Within Set Sum of Squared Errors\"\n",
    "wssse = model.computeCost(wineDF_kmeans)\n",
    "print(\"Within Set Sum of Squared Errors = \" + str(wssse))"
   ]
  },
  {
   "cell_type": "code",
   "execution_count": 22,
   "metadata": {
    "collapsed": true
   },
   "outputs": [],
   "source": [
    "kmeans_k_2 = 6\n",
    "kmeans2 = KMeans().setK(kmeans_k_2).setSeed(1).setFeaturesCol(\"features\")\n",
    "model2 = kmeans2.fit(wineDF_kmeans)"
   ]
  },
  {
   "cell_type": "code",
   "execution_count": 25,
   "metadata": {},
   "outputs": [
    {
     "name": "stdout",
     "output_type": "stream",
     "text": [
      "Within Set Sum of Squared Errors = 193423.65775839088\n"
     ]
    }
   ],
   "source": [
    "# Evaluamos el clustering computando el \"Within Set Sum of Squared Errors\"\n",
    "wssse2 = model2.computeCost(wineDF_kmeans)\n",
    "print(\"Within Set Sum of Squared Errors = \" + str(wssse2))"
   ]
  },
  {
   "cell_type": "code",
   "execution_count": 37,
   "metadata": {
    "collapsed": true
   },
   "outputs": [],
   "source": [
    "kmeans_k_3 = 15\n",
    "kmeans3 = KMeans().setK(kmeans_k_3).setSeed(1).setFeaturesCol(\"features\")\n",
    "model3 = kmeans3.fit(wineDF_kmeans)"
   ]
  },
  {
   "cell_type": "code",
   "execution_count": 38,
   "metadata": {},
   "outputs": [
    {
     "name": "stdout",
     "output_type": "stream",
     "text": [
      "Within Set Sum of Squared Errors = 73612.36286295216\n"
     ]
    }
   ],
   "source": [
    "# Evaluamos el clustering computando el \"Within Set Sum of Squared Errors\"\n",
    "wssse3 = model3.computeCost(wineDF_kmeans)\n",
    "print(\"Within Set Sum of Squared Errors = \" + str(wssse3))"
   ]
  },
  {
   "cell_type": "markdown",
   "metadata": {},
   "source": [
    "Como se puede observar, entendemos que estamos calculando la calidad del modelo valorando la distancia a los centroides de cada cluster. Como vemos cuantos más cluster generamos, reducimos las distancias y por tanto parece que se mejora el modelo. \n",
    "\n",
    "El compromiso lo tenemos en k=11, como hemos comentado anteriormente, que es donde encontramos la maximización del beneficio en añadir más clusters. \n",
    "\n",
    "En Spark 2.3 aparece disponible un \"clustering evaluator\" que no podemos utilizar, dado que este ejercicio lo estamos resolviendo con Spark 2.2.1\n",
    "\n"
   ]
  }
 ],
 "metadata": {
  "kernelspec": {
   "display_name": "Python 3",
   "language": "python",
   "name": "python3"
  },
  "language_info": {
   "codemirror_mode": {
    "name": "ipython",
    "version": 3
   },
   "file_extension": ".py",
   "mimetype": "text/x-python",
   "name": "python",
   "nbconvert_exporter": "python",
   "pygments_lexer": "ipython3",
   "version": "3.6.2"
  }
 },
 "nbformat": 4,
 "nbformat_minor": 2
}
