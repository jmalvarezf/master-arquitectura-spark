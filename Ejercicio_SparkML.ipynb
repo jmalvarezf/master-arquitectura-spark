{
 "cells": [
  {
   "cell_type": "markdown",
   "metadata": {},
   "source": [
    "## KMeans con un dataset de vinos"
   ]
  },
  {
   "cell_type": "markdown",
   "metadata": {},
   "source": [
    "Primero cargamos el dataset. El dataset se encuentra en los repositorios de UCI machine learning. Para ello aprovechamos y lo cargamos desde una URL con los métodos de Pandas (ya que Spark no lo permite) y lo mostramos"
   ]
  },
  {
   "cell_type": "code",
   "execution_count": 6,
   "metadata": {},
   "outputs": [
    {
     "name": "stdout",
     "output_type": "stream",
     "text": [
      "+-------------+----------------+-----------+--------------+-------------------+-------------------+--------------------+-------+----+---------+-------+-------+\n",
      "|fixed acidity|volatile acidity|citric acid|residual sugar|          chlorides|free sulfur dioxide|total sulfur dioxide|density|  pH|sulphates|alcohol|quality|\n",
      "+-------------+----------------+-----------+--------------+-------------------+-------------------+--------------------+-------+----+---------+-------+-------+\n",
      "|          7.4|             0.7|        0.0|           1.9|              0.076|               11.0|                34.0| 0.9978|3.51|     0.56|    9.4|      5|\n",
      "|          7.8|            0.88|        0.0|           2.6|              0.098|               25.0|                67.0| 0.9968| 3.2|     0.68|    9.8|      5|\n",
      "|          7.8|            0.76|       0.04|           2.3|              0.092|               15.0|                54.0|  0.997|3.26|     0.65|    9.8|      5|\n",
      "|         11.2|            0.28|       0.56|           1.9|              0.075|               17.0|                60.0|  0.998|3.16|     0.58|    9.8|      6|\n",
      "|          7.4|             0.7|        0.0|           1.9|              0.076|               11.0|                34.0| 0.9978|3.51|     0.56|    9.4|      5|\n",
      "|          7.4|            0.66|        0.0|           1.8|              0.075|               13.0|                40.0| 0.9978|3.51|     0.56|    9.4|      5|\n",
      "|          7.9|             0.6|       0.06|           1.6|              0.069|               15.0|                59.0| 0.9964| 3.3|     0.46|    9.4|      5|\n",
      "|          7.3|            0.65|        0.0|           1.2|              0.065|               15.0|                21.0| 0.9946|3.39|     0.47|   10.0|      7|\n",
      "|          7.8|            0.58|       0.02|           2.0|              0.073|                9.0|                18.0| 0.9968|3.36|     0.57|    9.5|      7|\n",
      "|          7.5|             0.5|       0.36|           6.1|              0.071|               17.0|               102.0| 0.9978|3.35|      0.8|   10.5|      5|\n",
      "|          6.7|            0.58|       0.08|           1.8|0.09699999999999999|               15.0|                65.0| 0.9959|3.28|     0.54|    9.2|      5|\n",
      "|          7.5|             0.5|       0.36|           6.1|              0.071|               17.0|               102.0| 0.9978|3.35|      0.8|   10.5|      5|\n",
      "|          5.6|           0.615|        0.0|           1.6|0.08900000000000001|               16.0|                59.0| 0.9943|3.58|     0.52|    9.9|      5|\n",
      "|          7.8|            0.61|       0.29|           1.6|              0.114|                9.0|                29.0| 0.9974|3.26|     1.56|    9.1|      5|\n",
      "|          8.9|            0.62|       0.18|           3.8|0.17600000000000002|               52.0|               145.0| 0.9986|3.16|     0.88|    9.2|      5|\n",
      "|          8.9|            0.62|       0.19|           3.9|               0.17|               51.0|               148.0| 0.9986|3.17|     0.93|    9.2|      5|\n",
      "|          8.5|            0.28|       0.56|           1.8|              0.092|               35.0|               103.0| 0.9969| 3.3|     0.75|   10.5|      7|\n",
      "|          8.1|            0.56|       0.28|           1.7|              0.368|               16.0|                56.0| 0.9968|3.11|     1.28|    9.3|      5|\n",
      "|          7.4|            0.59|       0.08|           4.4|              0.086|                6.0|                29.0| 0.9974|3.38|      0.5|    9.0|      4|\n",
      "|          7.9|            0.32|       0.51|           1.8|              0.341|               17.0|                56.0| 0.9969|3.04|     1.08|    9.2|      6|\n",
      "+-------------+----------------+-----------+--------------+-------------------+-------------------+--------------------+-------+----+---------+-------+-------+\n",
      "only showing top 20 rows\n",
      "\n"
     ]
    }
   ],
   "source": [
    "import pandas as pd\n",
    "wineDF = spark.createDataFrame(pd.read_csv(\"http://archive.ics.uci.edu/ml/machine-learning-databases/wine-quality/winequality-red.csv\", header=0, delimiter=\";\"))\n",
    "wineDF.show()"
   ]
  },
  {
   "cell_type": "markdown",
   "metadata": {},
   "source": [
    "Comprobamos que todas las columnas que nos interesan para el agrupamiento son del tipo Double (menos la que indica la calidad del vino, que no la vamos a utilizar para el algoritmo ya que nos indica el resultado)."
   ]
  },
  {
   "cell_type": "code",
   "execution_count": 12,
   "metadata": {},
   "outputs": [
    {
     "name": "stdout",
     "output_type": "stream",
     "text": [
      "[DoubleType, DoubleType, DoubleType, DoubleType, DoubleType, DoubleType, DoubleType, DoubleType, DoubleType, DoubleType, DoubleType, LongType]\n",
      "['fixed acidity', 'volatile acidity', 'citric acid', 'residual sugar', 'chlorides', 'free sulfur dioxide', 'total sulfur dioxide', 'density', 'pH', 'sulphates', 'alcohol']\n"
     ]
    }
   ],
   "source": [
    "types = [element.dataType for element in wineDF.schema.fields]\n",
    "print(types)\n",
    "names = []\n",
    "for element in wineDF.schema.fields:\n",
    "    if element.name != \"quality\":\n",
    "        names.append(element.name)\n",
    "print(names)\n",
    "wineDF = wineDF.na.drop()"
   ]
  },
  {
   "cell_type": "code",
   "execution_count": 14,
   "metadata": {},
   "outputs": [
    {
     "name": "stdout",
     "output_type": "stream",
     "text": [
      "+-------+--------------------+\n",
      "|quality|            features|\n",
      "+-------+--------------------+\n",
      "|      5|[7.4,0.7,0.0,1.9,...|\n",
      "|      5|[7.8,0.88,0.0,2.6...|\n",
      "|      5|[7.8,0.76,0.04,2....|\n",
      "|      6|[11.2,0.28,0.56,1...|\n",
      "|      5|[7.4,0.7,0.0,1.9,...|\n",
      "|      5|[7.4,0.66,0.0,1.8...|\n",
      "|      5|[7.9,0.6,0.06,1.6...|\n",
      "|      7|[7.3,0.65,0.0,1.2...|\n",
      "|      7|[7.8,0.58,0.02,2....|\n",
      "|      5|[7.5,0.5,0.36,6.1...|\n",
      "|      5|[6.7,0.58,0.08,1....|\n",
      "|      5|[7.5,0.5,0.36,6.1...|\n",
      "|      5|[5.6,0.615,0.0,1....|\n",
      "|      5|[7.8,0.61,0.29,1....|\n",
      "|      5|[8.9,0.62,0.18,3....|\n",
      "|      5|[8.9,0.62,0.19,3....|\n",
      "|      7|[8.5,0.28,0.56,1....|\n",
      "|      5|[8.1,0.56,0.28,1....|\n",
      "|      4|[7.4,0.59,0.08,4....|\n",
      "|      6|[7.9,0.32,0.51,1....|\n",
      "+-------+--------------------+\n",
      "only showing top 20 rows\n",
      "\n"
     ]
    }
   ],
   "source": [
    "from pyspark.ml.feature import VectorAssembler\n",
    "vecAssembler = VectorAssembler(inputCols=names, outputCol=\"features\")\n",
    "wineDF_kmeans = vecAssembler.transform(wineDF).select('quality', 'features')\n",
    "wineDF_kmeans.show()"
   ]
  },
  {
   "cell_type": "markdown",
   "metadata": {},
   "source": [
    "Es importante saber antes de usar Kmeans, cuantas agrupaciones queremos realizar. Es por ello que intentamos, como se muestra en el ejemplo, sacar un valor de K para el cual ya no se \"maximize\" la ganancia"
   ]
  },
  {
   "cell_type": "code",
   "execution_count": 16,
   "metadata": {},
   "outputs": [],
   "source": [
    "import numpy as np\n",
    "from pyspark.ml.clustering import KMeans\n",
    "cost = np.zeros(20)\n",
    "for k in range(2,20):\n",
    "    kmeans = KMeans().setK(k).setSeed(1).setFeaturesCol(\"features\")\n",
    "    model = kmeans.fit(wineDF_kmeans.sample(False,0.1, seed=42))\n",
    "    cost[k] = model.computeCost(wineDF_kmeans)"
   ]
  },
  {
   "cell_type": "code",
   "execution_count": 19,
   "metadata": {},
   "outputs": [
    {
     "data": {
      "image/png": "[encoded data removed]",
      "text/plain": [
       "<matplotlib.figure.Figure at 0x7fe65cb75828>"
      ]
     },
     "metadata": {},
     "output_type": "display_data"
    }
   ],
   "source": [
    "import matplotlib.pyplot as plt\n",
    "%matplotlib inline\n",
    "fig, ax = plt.subplots(1,1, figsize =(12,6))\n",
    "ax.plot(range(2,20),cost[2:20])\n",
    "_ = ax.set_xlabel('k')\n",
    "_ = ax.set_ylabel('coste')"
   ]
  },
  {
   "cell_type": "markdown",
   "metadata": {},
   "source": [
    "En principio vamos a intentar quedarnos con un K de 11, a partir del cual la ganacia es realmente pequeña, y sabiendo además que la calidad del vino se va a medir de 0 a 10"
   ]
  },
  {
   "cell_type": "code",
   "execution_count": 26,
   "metadata": {},
   "outputs": [],
   "source": [
    "kmeans_k = 11\n",
    "kmeans = KMeans().setK(kmeans_k).setSeed(1).setFeaturesCol(\"features\")\n",
    "model = kmeans.fit(wineDF_kmeans)"
   ]
  },
  {
   "cell_type": "code",
   "execution_count": 39,
   "metadata": {},
   "outputs": [
    {
     "name": "stdout",
     "output_type": "stream",
     "text": [
      "[Row(quality=5, prediction=6), Row(quality=5, prediction=0), Row(quality=5, prediction=7)]\n"
     ]
    }
   ],
   "source": [
    "predictions = model.transform(wineDF_kmeans).select('quality', 'prediction')\n",
    "rows = predictions.collect()\n",
    "print(rows[:3])"
   ]
  },
  {
   "cell_type": "code",
   "execution_count": 34,
   "metadata": {},
   "outputs": [
    {
     "name": "stdout",
     "output_type": "stream",
     "text": [
      "+-------+----------+\n",
      "|quality|prediction|\n",
      "+-------+----------+\n",
      "|      5|         6|\n",
      "|      5|         0|\n",
      "|      5|         7|\n",
      "|      6|         7|\n",
      "|      5|         6|\n",
      "|      5|         4|\n",
      "|      5|         7|\n",
      "|      7|         6|\n",
      "|      7|         1|\n",
      "|      5|         8|\n",
      "|      5|         7|\n",
      "|      5|         8|\n",
      "|      5|         7|\n",
      "|      5|         6|\n",
      "|      5|         9|\n",
      "|      5|         9|\n",
      "|      7|        10|\n",
      "|      5|         7|\n",
      "|      4|         6|\n",
      "|      6|         7|\n",
      "+-------+----------+\n",
      "only showing top 20 rows\n",
      "\n"
     ]
    }
   ],
   "source": [
    "wineDF_pred = spark.createDataFrame(rows)\n",
    "wineDF_pred.show()"
   ]
  },
  {
   "cell_type": "markdown",
   "metadata": {},
   "source": [
    "Ahora salvamos el modelo"
   ]
  },
  {
   "cell_type": "code",
   "execution_count": 29,
   "metadata": {
    "collapsed": true
   },
   "outputs": [],
   "source": [
    "model.save(\"wine_kmeans_model\")"
   ]
  },
  {
   "cell_type": "markdown",
   "metadata": {},
   "source": [
    "Según la documentación y los ejemplos de Spark (https://github.com/apache/spark/blob/v2.2.1/examples/src/main/python/ml/kmeans_example.py), podemos evaluar el modelo, y así lo hacemos"
   ]
  },
  {
   "cell_type": "code",
   "execution_count": 37,
   "metadata": {},
   "outputs": [
    {
     "name": "stdout",
     "output_type": "stream",
     "text": [
      "Within Set Sum of Squared Errors = 99494.80305208372\n"
     ]
    }
   ],
   "source": [
    "# Evaluamos el clustering computando el \"Within Set Sum of Squared Errors\" (me permito copiarlo de)\n",
    "wssse = model.computeCost(wineDF_kmeans)\n",
    "print(\"Within Set Sum of Squared Errors = \" + str(wssse))"
   ]
  },
  {
   "cell_type": "code",
   "execution_count": null,
   "metadata": {
    "collapsed": true
   },
   "outputs": [],
   "source": []
  }
 ],
 "metadata": {
  "kernelspec": {
   "display_name": "Python 3",
   "language": "python",
   "name": "python3"
  },
  "language_info": {
   "codemirror_mode": {
    "name": "ipython",
    "version": 3
   },
   "file_extension": ".py",
   "mimetype": "text/x-python",
   "name": "python",
   "nbconvert_exporter": "python",
   "pygments_lexer": "ipython3",
   "version": "3.6.2"
  }
 },
 "nbformat": 4,
 "nbformat_minor": 2
}
